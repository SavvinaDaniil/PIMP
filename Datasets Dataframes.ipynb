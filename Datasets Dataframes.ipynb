{
 "cells": [
  {
   "cell_type": "markdown",
   "metadata": {},
   "source": [
    "First, we import what is needed."
   ]
  },
  {
   "cell_type": "code",
   "execution_count": 62,
   "metadata": {},
   "outputs": [],
   "source": [
    "import pandas as pd\n",
    "import re"
   ]
  },
  {
   "cell_type": "markdown",
   "metadata": {},
   "source": [
    "Then, we read the different datasets as dataframes."
   ]
  },
  {
   "cell_type": "code",
   "execution_count": 70,
   "metadata": {},
   "outputs": [],
   "source": [
    "gen_pop=pd.read_excel(r'C:\\Users\\user\\Desktop\\UVA\\Data Systems\\DSP_data\\Population2014-2018(menwomen).xlsx')\n",
    "pop_mig=pd.read_excel(r'C:\\Users\\user\\Desktop\\UVA\\Data Systems\\DSP_data\\DATASETS-DSP\\PopulationMigration2014-2018.xlsx')\n",
    "house_types=pd.read_excel(r'C:\\Users\\user\\Desktop\\UVA\\Data Systems\\DSP_data\\DATASETS-DSP\\HouseholdTypes2018.xlsx')\n",
    "house_stock=pd.read_excel(r'C:\\Users\\user\\Desktop\\UVA\\Data Systems\\DSP_data\\HousingStock2014-2018.xlsx')\n",
    "incomes=pd.read_excel(r'C:\\Users\\user\\Desktop\\UVA\\Data Systems\\DSP_data\\Households(x1000) per income.xlsx')\n",
    "unemployment=pd.read_excel(r'C:\\Users\\user\\Desktop\\UVA\\Data Systems\\DSP_data\\Unemployment-1-1-2018.xlsx')\n",
    "crime=pd.read_excel(r'C:\\Users\\user\\Desktop\\UVA\\Data Systems\\DSP_data\\Crime-2009-2015.xlsx')\n",
    "house_values=pd.read_excel(r'C:\\Users\\user\\Desktop\\UVA\\Data Systems\\DSP_data\\Average Hasue Value 2003-2017.xlsx')"
   ]
  },
  {
   "cell_type": "markdown",
   "metadata": {},
   "source": [
    "The following functions fixes the dataframe into a more understandable and clean form."
   ]
  },
  {
   "cell_type": "code",
   "execution_count": 64,
   "metadata": {},
   "outputs": [],
   "source": [
    "def transform(df):\n",
    "    df=df.dropna().reset_index().drop(['index'],axis=1)\n",
    "    df.columns=df.iloc[0]\n",
    "    df=df.drop([0])\n",
    "    for i in range(1,len(df)+1):\n",
    "        if not df['wijk/std'][i][2].isdigit():\n",
    "            df=df.drop([i])\n",
    "        else:\n",
    "            df['wijk/std'][i]=df['wijk/std'][i][3:]\n",
    "    df=df.set_index('wijk/std')\n",
    "    return df"
   ]
  },
  {
   "cell_type": "markdown",
   "metadata": {},
   "source": [
    "We transform all the dataframes."
   ]
  },
  {
   "cell_type": "code",
   "execution_count": 67,
   "metadata": {},
   "outputs": [],
   "source": [
    "gen_pop=transform(gen_pop)\n",
    "pop_mig=transform(pop_mig)\n",
    "house_types=transform(house_types)\n",
    "house_stock=transform(house_stock)\n",
    "households_per_income=transform(incomes)\n",
    "unemployment=transform(unemployment)\n",
    "crime=transform(crime)\n",
    "house_values=transform(house_values)"
   ]
  },
  {
   "cell_type": "markdown",
   "metadata": {},
   "source": [
    "We can merge all the different dataframes into one."
   ]
  },
  {
   "cell_type": "code",
   "execution_count": 12,
   "metadata": {},
   "outputs": [],
   "source": [
    "big_df=pd.concat([gen_pop,pop_mig,house_types,house_stock],axis=1)"
   ]
  }
 ],
 "metadata": {
  "kernelspec": {
   "display_name": "Python 3",
   "language": "python",
   "name": "python3"
  },
  "language_info": {
   "codemirror_mode": {
    "name": "ipython",
    "version": 3
   },
   "file_extension": ".py",
   "mimetype": "text/x-python",
   "name": "python",
   "nbconvert_exporter": "python",
   "pygments_lexer": "ipython3",
   "version": "3.6.5"
  }
 },
 "nbformat": 4,
 "nbformat_minor": 2
}
